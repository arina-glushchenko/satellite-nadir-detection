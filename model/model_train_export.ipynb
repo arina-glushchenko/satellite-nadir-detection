{
 "cells": [
  {
   "cell_type": "markdown",
   "id": "9d5e3e01",
   "metadata": {},
   "source": [
    "Clone airockchip repository"
   ]
  },
  {
   "cell_type": "code",
   "execution_count": null,
   "id": "76cf4981",
   "metadata": {},
   "outputs": [],
   "source": [
    "!git clone https://github.com/ultralytics/yolov5  # clone\n",
    "!cd yolov5\n",
    "!pip install -r requirements.txt  # install"
   ]
  },
  {
   "cell_type": "markdown",
   "id": "7b8d89a7",
   "metadata": {},
   "source": [
    "Train (clone dataset folder in yolov5 folder before this step)"
   ]
  },
  {
   "cell_type": "code",
   "execution_count": null,
   "id": "1f1bf6b7",
   "metadata": {},
   "outputs": [],
   "source": [
    "!python train.py --img 256 --epochs 100 --data dataset/data.yaml --weights yolov5n.pt"
   ]
  },
  {
   "cell_type": "markdown",
   "id": "7cba4dd2",
   "metadata": {},
   "source": [
    "Export to onnx"
   ]
  },
  {
   "cell_type": "code",
   "execution_count": null,
   "id": "2951f588",
   "metadata": {},
   "outputs": [],
   "source": [
    "!python export.py   --weights runs/train/exp4/weights/best.pt --img 256  --include onnx  --rknpu"
   ]
  },
  {
   "cell_type": "markdown",
   "id": "3cc67d5e",
   "metadata": {},
   "source": [
    "Install rknn-toolkit-lite"
   ]
  },
  {
   "cell_type": "markdown",
   "id": "4ec73c4a",
   "metadata": {},
   "source": [
    "Export in rknn"
   ]
  },
  {
   "cell_type": "code",
   "execution_count": 5,
   "id": "b8eb7b3a",
   "metadata": {},
   "outputs": [
    {
     "name": "stderr",
     "output_type": "stream",
     "text": [
      "I rknn-toolkit2 version: 2.3.2\n"
     ]
    },
    {
     "name": "stdout",
     "output_type": "stream",
     "text": [
      "--> Config model\n",
      "done\n",
      "--> Loading model\n"
     ]
    },
    {
     "name": "stderr",
     "output_type": "stream",
     "text": [
      "I Loading : 100%|██████████████████████████████████████████████| 121/121 [00:00<00:00, 43634.32it/s]\n"
     ]
    },
    {
     "name": "stdout",
     "output_type": "stream",
     "text": [
      "done\n",
      "--> Building model\n"
     ]
    },
    {
     "name": "stderr",
     "output_type": "stream",
     "text": [
      "I OpFusing 2 : 100%|████████████████████████████████████████████| 100/100 [00:00<00:00, 2777.57it/s]\n"
     ]
    },
    {
     "name": "stdout",
     "output_type": "stream",
     "text": [
      "\n",
      "\n"
     ]
    },
    {
     "name": "stderr",
     "output_type": "stream",
     "text": [
      "I GraphPreparing : 100%|████████████████████████████████████████| 149/149 [00:00<00:00, 8263.60it/s]\n",
      "I Quantizating : 100%|███████████████████████████████████████████| 149/149 [00:00<00:00, 422.94it/s]\n",
      "\u001b[1;33mW\u001b[0m \u001b[1;33mbuild: The default input dtype of 'images' is changed from 'float32' to 'int8' in rknn model for performance!\n",
      "                       Please take care of this change when deploy rknn model with Runtime API!\u001b[0m\n",
      "\u001b[1;33mW\u001b[0m \u001b[1;33mbuild: The default output dtype of 'output0' is changed from 'float32' to 'int8' in rknn model for performance!\n",
      "                      Please take care of this change when deploy rknn model with Runtime API!\u001b[0m\n",
      "\u001b[1;33mW\u001b[0m \u001b[1;33mbuild: The default output dtype of '286' is changed from 'float32' to 'int8' in rknn model for performance!\n",
      "                      Please take care of this change when deploy rknn model with Runtime API!\u001b[0m\n",
      "\u001b[1;33mW\u001b[0m \u001b[1;33mbuild: The default output dtype of '288' is changed from 'float32' to 'int8' in rknn model for performance!\n",
      "                      Please take care of this change when deploy rknn model with Runtime API!\u001b[0m\n",
      "I rknn building ...\n",
      "I rknn building done.\n"
     ]
    },
    {
     "name": "stdout",
     "output_type": "stream",
     "text": [
      "done\n",
      "--> Export rknn model\n",
      "done\n"
     ]
    }
   ],
   "source": [
    "import sys\n",
    "from rknn.api import RKNN\n",
    "\n",
    "DATASET_PATH = 'dataset/dataset.txt'\n",
    "DEFAULT_RKNN_PATH = '/media/arina/3054491A0696DA9F/work/yolov5_rockchip/yolov5/runs/train/exp9/weights/best.onnx'\n",
    "DEFAULT_QUANT = True\n",
    "\n",
    "def parse_arg():\n",
    "    if len(sys.argv) < 3:\n",
    "        print(\"Usage: python3 {} onnx_model_path [platform] [dtype(optional)] [output_rknn_path(optional)]\".format(sys.argv[0]))\n",
    "        print(\"       platform choose from [rk3562, rk3566, rk3568, rk3576, rk3588, rv1103, rv1106, rv1126b, rv1109, rv1126, rk1808]\")\n",
    "        print(\"       dtype choose from [i8, fp] for [rk3562, rk3566, rk3568, rk3576, rk3588, rv1103, rv1106, rv1126b]\")\n",
    "        print(\"       dtype choose from [u8, fp] for [rv1109, rv1126, rk1808]\")\n",
    "        exit(1)\n",
    "\n",
    "    model_path = sys.argv[1]\n",
    "    platform = sys.argv[2]\n",
    "\n",
    "    do_quant = DEFAULT_QUANT\n",
    "    model_type = 'i8'\n",
    "    if len(sys.argv) > 3:\n",
    "        model_type = sys.argv[3]\n",
    "        if model_type not in ['i8', 'u8', 'fp']:\n",
    "            print(\"ERROR: Invalid model type: {}\".format(model_type))\n",
    "            exit(1)\n",
    "        elif model_type in ['i8', 'u8']:\n",
    "            do_quant = True\n",
    "        else:\n",
    "            do_quant = False\n",
    "\n",
    "    if len(sys.argv) > 4:\n",
    "        output_path = sys.argv[4]\n",
    "    else:\n",
    "        output_path = DEFAULT_RKNN_PATH\n",
    "\n",
    "    return model_path, platform, do_quant, output_path\n",
    "\n",
    "if __name__ == '__main__':\n",
    "    # model_path, platform, do_quant, output_path = parse_arg()\n",
    "\n",
    "    model_path = '/media/arina/3054491A0696DA9F/work/yolov5_rockchip/yolov5/runs/train/exp9/weights/best.onnx'\n",
    "    platform = 'rv1103' \n",
    "    do_quant = True\n",
    "    output_path = 'yolov5n_256_rockchip.rknn'\n",
    "\n",
    "        # Create RKNN object\n",
    "    rknn = RKNN(verbose=False)\n",
    "\n",
    "    # Pre-process config\n",
    "    print('--> Config model')\n",
    "    rknn.config(mean_values=[[0, 0, 0]], std_values=[\n",
    "                    [255, 255, 255]], target_platform=platform)\n",
    "    print('done')\n",
    "\n",
    "    # Load model\n",
    "    print('--> Loading model')\n",
    "    ret = rknn.load_onnx(model=model_path)\n",
    "    if ret != 0:\n",
    "        print('Load model failed!')\n",
    "        exit(ret)\n",
    "    print('done')\n",
    "\n",
    "    # Build model\n",
    "    print('--> Building model')\n",
    "    ret = rknn.build(do_quantization=do_quant, dataset=DATASET_PATH)\n",
    "    if ret != 0:\n",
    "        print('Build model failed!')\n",
    "        exit(ret)\n",
    "    print('done')\n",
    "\n",
    "    # Export rknn model\n",
    "    print('--> Export rknn model')\n",
    "    ret = rknn.export_rknn(output_path)\n",
    "    if ret != 0:\n",
    "        print('Export rknn model failed!')\n",
    "        exit(ret)\n",
    "    print('done')\n",
    "\n",
    "    # Release\n",
    "    rknn.release()\n",
    "\n",
    "\n",
    "\n"
   ]
  }
 ],
 "metadata": {
  "kernelspec": {
   "display_name": "rknn",
   "language": "python",
   "name": "python3"
  },
  "language_info": {
   "codemirror_mode": {
    "name": "ipython",
    "version": 3
   },
   "file_extension": ".py",
   "mimetype": "text/x-python",
   "name": "python",
   "nbconvert_exporter": "python",
   "pygments_lexer": "ipython3",
   "version": "3.12.11"
  }
 },
 "nbformat": 4,
 "nbformat_minor": 5
}
